{
 "cells": [
  {
   "cell_type": "markdown",
   "metadata": {},
   "source": [
    "## Import Libraries"
   ]
  },
  {
   "cell_type": "code",
   "execution_count": 17,
   "metadata": {},
   "outputs": [],
   "source": [
    "import pandas as pd\n",
    "from datetime import datetime, date"
   ]
  },
  {
   "cell_type": "code",
   "execution_count": 19,
   "metadata": {},
   "outputs": [
    {
     "name": "stdout",
     "output_type": "stream",
     "text": [
      "<class 'pandas.core.frame.DataFrame'>\n",
      "RangeIndex: 22170 entries, 0 to 22169\n",
      "Data columns (total 3 columns):\n",
      "item_name           22170 non-null object\n",
      "item_id             22170 non-null int64\n",
      "item_category_id    22170 non-null int64\n",
      "dtypes: int64(2), object(1)\n",
      "memory usage: 519.7+ KB\n"
     ]
    }
   ],
   "source": [
    "train_df = pd.read_csv(\"data/sales_train.csv\")\n",
    "test_df = pd.read_csv(\"data/test.csv\")\n",
    "item_cat_df = pd.read_csv('data/items.csv')\n",
    "\n",
    "\n",
    "# train_df.info()\n",
    "# test_df.info()\n",
    "# test_df.head\n",
    "\n",
    "item_cat_df.info()"
   ]
  },
  {
   "cell_type": "code",
   "execution_count": 21,
   "metadata": {},
   "outputs": [],
   "source": [
    "# train_shops = train_df.shop_id.unique()\n",
    "# train_shops\n",
    "\n",
    "# train_items = train_df.item_id.unique()\n",
    "# train_items\n",
    "\n",
    "# test_shops = test_df.shop_id.unique()\n",
    "# test_shops\n",
    "\n",
    "\n",
    "# test_shops = test_df.shop_id.unique()\n",
    "# train_df = train_df[train_df.shop_id.isin(test_shops)]\n",
    "# test_items = test_df.item_id.unique()\n",
    "# train_df = train_df[train_df.item_id.isin(test_items)]"
   ]
  },
  {
   "cell_type": "code",
   "execution_count": 23,
   "metadata": {},
   "outputs": [
    {
     "name": "stdout",
     "output_type": "stream",
     "text": [
      "<class 'pandas.core.frame.DataFrame'>\n",
      "Int64Index: 2935849 entries, 0 to 2935848\n",
      "Data columns (total 9 columns):\n",
      "date                object\n",
      "date_block_num      int64\n",
      "shop_id             int64\n",
      "item_id             int64\n",
      "item_price          float64\n",
      "item_cnt_day        float64\n",
      "item_category_id    int64\n",
      "month               object\n",
      "year                object\n",
      "dtypes: float64(2), int64(4), object(3)\n",
      "memory usage: 224.0+ MB\n",
      "<class 'pandas.core.frame.DataFrame'>\n",
      "Int64Index: 2935849 entries, 0 to 2935848\n",
      "Data columns (total 10 columns):\n",
      "date                  object\n",
      "date_block_num        int64\n",
      "shop_id               int64\n",
      "item_id               int64\n",
      "item_price            float64\n",
      "item_cnt_day          float64\n",
      "item_category_id_x    int64\n",
      "month                 object\n",
      "year                  object\n",
      "item_category_id_y    int64\n",
      "dtypes: float64(2), int64(5), object(3)\n",
      "memory usage: 246.4+ MB\n"
     ]
    }
   ],
   "source": [
    "train_df.info()\n",
    "train_df = pd.merge(train_df, item_cat_df[['item_id', 'item_category_id']], on='item_id')\n",
    "train_df.info()"
   ]
  },
  {
   "cell_type": "code",
   "execution_count": 24,
   "metadata": {},
   "outputs": [
    {
     "name": "stdout",
     "output_type": "stream",
     "text": [
      "<class 'pandas.core.frame.DataFrame'>\n",
      "Int64Index: 2935849 entries, 0 to 2935848\n",
      "Data columns (total 10 columns):\n",
      "date                  object\n",
      "date_block_num        int64\n",
      "shop_id               int64\n",
      "item_id               int64\n",
      "item_price            float64\n",
      "item_cnt_day          float64\n",
      "item_category_id_x    int64\n",
      "month                 object\n",
      "year                  object\n",
      "item_category_id_y    int64\n",
      "dtypes: float64(2), int64(5), object(3)\n",
      "memory usage: 246.4+ MB\n"
     ]
    }
   ],
   "source": [
    "train_df['month'] = train_df.date.apply(lambda x: datetime.strptime(x, '%d.%m.%Y').strftime('%m'))\n",
    "train_df['year'] = train_df.date.apply(lambda x: datetime.strptime(x, '%d.%m.%Y').strftime('%Y'))\n",
    "\n",
    "train_df.info()"
   ]
  },
  {
   "cell_type": "code",
   "execution_count": 25,
   "metadata": {},
   "outputs": [
    {
     "name": "stdout",
     "output_type": "stream",
     "text": [
      "<class 'pandas.core.frame.DataFrame'>\n",
      "RangeIndex: 214200 entries, 0 to 214199\n",
      "Data columns (total 3 columns):\n",
      "ID         214200 non-null int64\n",
      "shop_id    214200 non-null int64\n",
      "item_id    214200 non-null int64\n",
      "dtypes: int64(3)\n",
      "memory usage: 4.9 MB\n",
      "<class 'pandas.core.frame.DataFrame'>\n",
      "Int64Index: 214200 entries, 0 to 214199\n",
      "Data columns (total 4 columns):\n",
      "ID                  214200 non-null int64\n",
      "shop_id             214200 non-null int64\n",
      "item_id             214200 non-null int64\n",
      "item_category_id    214200 non-null int64\n",
      "dtypes: int64(4)\n",
      "memory usage: 8.2 MB\n"
     ]
    }
   ],
   "source": [
    "test_df.info()\n",
    "test_df = pd.merge(test_df, item_cat_df[['item_id', 'item_category_id']], on='item_id')\n",
    "test_df.info()"
   ]
  },
  {
   "cell_type": "code",
   "execution_count": null,
   "metadata": {},
   "outputs": [],
   "source": []
  },
  {
   "cell_type": "code",
   "execution_count": null,
   "metadata": {},
   "outputs": [],
   "source": []
  }
 ],
 "metadata": {
  "kernelspec": {
   "display_name": "Python 3",
   "language": "python",
   "name": "python3"
  },
  "language_info": {
   "codemirror_mode": {
    "name": "ipython",
    "version": 3
   },
   "file_extension": ".py",
   "mimetype": "text/x-python",
   "name": "python",
   "nbconvert_exporter": "python",
   "pygments_lexer": "ipython3",
   "version": "3.7.3"
  }
 },
 "nbformat": 4,
 "nbformat_minor": 2
}
