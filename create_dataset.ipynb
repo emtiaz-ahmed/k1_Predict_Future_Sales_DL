{
 "cells": [
  {
   "cell_type": "markdown",
   "metadata": {},
   "source": [
    "### Data Details\n",
    "\n",
    "Data fields\n",
    "* **ID** - an Id that represents a (Shop, Item) tuple within the test set\n",
    "* **shop_id** - unique identifier of a shop\n",
    "* **item_id** - unique identifier of a product\n",
    "* **item_category_id** - unique identifier of item category\n",
    "* **item_cnt_day** - number of products sold. You are predicting a monthly amount of this measure\n",
    "* **item_price** - current price of an item\n",
    "* **date** - date in format dd/mm/yyyy\n",
    "* **date_block_num** - a consecutive month number, used for convenience. January 2013 is 0, February 2013 is 1,..., October 2015 is 33\n",
    "* **item_name** - name of item\n",
    "* **shop_name** - name of shop\n",
    "* **item_category_name** - name of item category\n",
    "\n"
   ]
  },
  {
   "cell_type": "code",
   "execution_count": 2,
   "metadata": {},
   "outputs": [],
   "source": [
    "\n",
    "import pandas as pd\n",
    "import numpy as np\n",
    "from datetime import datetime, date\n",
    "\n"
   ]
  },
  {
   "cell_type": "code",
   "execution_count": 3,
   "metadata": {},
   "outputs": [],
   "source": [
    "train = pd.read_csv(\"data/sales_train.csv\")\n",
    "item_cat_df = pd.read_csv('data/items.csv')\n",
    "\n",
    "# calculate and add year and month column\n",
    "train['month'] = train.date.apply(lambda x: datetime.strptime(x, '%d.%m.%Y').strftime('%m'))\n",
    "train['year'] = train.date.apply(lambda x: datetime.strptime(x, '%d.%m.%Y').strftime('%Y'))\n",
    "\n",
    "# train\n",
    "\n",
    "### group by and calculate the monthly sum\n",
    "### select specific columns\n",
    "### drop duplicates\n",
    "train['item_cnt_month'] = train.groupby(['date_block_num', 'shop_id', 'item_id', 'month', 'year'])[['item_cnt_day']].transform(sum)\n",
    "train = train[['date_block_num', 'shop_id', 'item_id', 'month', 'year', 'item_cnt_month']]\n",
    "train = train.drop_duplicates()\n",
    "\n",
    "# train.info()\n",
    "train = pd.merge(train, item_cat_df[['item_id', 'item_category_id']], on='item_id')\n",
    "# train.info()\n",
    "\n",
    "\n",
    "train.to_csv(\"data/train_input_data.csv\", index = False)\n",
    "\n"
   ]
  },
  {
   "cell_type": "code",
   "execution_count": 10,
   "metadata": {},
   "outputs": [
    {
     "data": {
      "text/plain": [
       "<bound method NDFrame.head of             ID  shop_id  item_id\n",
       "0            0        5     5037\n",
       "1            1        5     5320\n",
       "2            2        5     5233\n",
       "3            3        5     5232\n",
       "4            4        5     5268\n",
       "5            5        5     5039\n",
       "6            6        5     5041\n",
       "7            7        5     5046\n",
       "8            8        5     5319\n",
       "9            9        5     5003\n",
       "10          10        5     4806\n",
       "11          11        5     4843\n",
       "12          12        5     4607\n",
       "13          13        5     4869\n",
       "14          14        5     4870\n",
       "15          15        5     4872\n",
       "16          16        5     4874\n",
       "17          17        5     4678\n",
       "18          18        5     4892\n",
       "19          19        5     4964\n",
       "20          20        5     4717\n",
       "21          21        5     5002\n",
       "22          22        5     5823\n",
       "23          23        5     5814\n",
       "24          24        5     5900\n",
       "25          25        5     5907\n",
       "26          26        5     5908\n",
       "27          27        5     5643\n",
       "28          28        5     5657\n",
       "29          29        5     5675\n",
       "...        ...      ...      ...\n",
       "214170  214170       45    14543\n",
       "214171  214171       45    19253\n",
       "214172  214172       45    17957\n",
       "214173  214173       45    12470\n",
       "214174  214174       45     7543\n",
       "214175  214175       45     6661\n",
       "214176  214176       45    11137\n",
       "214177  214177       45    11489\n",
       "214178  214178       45     9782\n",
       "214179  214179       45     2972\n",
       "214180  214180       45    19889\n",
       "214181  214181       45    20650\n",
       "214182  214182       45     5665\n",
       "214183  214183       45     9978\n",
       "214184  214184       45    10767\n",
       "214185  214185       45    14443\n",
       "214186  214186       45    14341\n",
       "214187  214187       45     5401\n",
       "214188  214188       45     9500\n",
       "214189  214189       45    16007\n",
       "214190  214190       45     3280\n",
       "214191  214191       45     4393\n",
       "214192  214192       45     4352\n",
       "214193  214193       45    18049\n",
       "214194  214194       45    18027\n",
       "214195  214195       45    18454\n",
       "214196  214196       45    16188\n",
       "214197  214197       45    15757\n",
       "214198  214198       45    19648\n",
       "214199  214199       45      969\n",
       "\n",
       "[214200 rows x 3 columns]>"
      ]
     },
     "execution_count": 10,
     "metadata": {},
     "output_type": "execute_result"
    }
   ],
   "source": [
    "test = pd.read_csv(\"data/test.csv\")\n",
    "test.head\n"
   ]
  },
  {
   "cell_type": "code",
   "execution_count": null,
   "metadata": {},
   "outputs": [],
   "source": []
  }
 ],
 "metadata": {
  "kernelspec": {
   "display_name": "Python 3",
   "language": "python",
   "name": "python3"
  },
  "language_info": {
   "codemirror_mode": {
    "name": "ipython",
    "version": 3
   },
   "file_extension": ".py",
   "mimetype": "text/x-python",
   "name": "python",
   "nbconvert_exporter": "python",
   "pygments_lexer": "ipython3",
   "version": "3.7.3"
  }
 },
 "nbformat": 4,
 "nbformat_minor": 2
}
